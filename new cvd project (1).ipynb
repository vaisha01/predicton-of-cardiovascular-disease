{
 "cells": [
  {
   "cell_type": "raw",
   "id": "4572360f",
   "metadata": {},
   "source": [
    "1=name\n",
    "2=entire probm statement, column names or details of column\n",
    "3=analysis of prbm statement,data collectn, cleaning,eda,model bulding,evaluation\n",
    "4=data details(cleaning=shape,missing values,dtype,)\n",
    "5= eda(heat map,visualizations(graphs),feature selection)\n",
    "6=model building=tr test split,names of model,dataframe of all accuracy\n",
    "7=best fitted(comparision)\n",
    "8=disadvantage of project"
   ]
  },
  {
   "cell_type": "markdown",
   "id": "4e789271",
   "metadata": {},
   "source": [
    "# Data description"
   ]
  },
  {
   "cell_type": "raw",
   "id": "09f8682a",
   "metadata": {},
   "source": [
    "\n",
    "There are 3 types of input features:\n",
    "\n",
    "Objective: factual information; Examination: results of medical examination; Subjective: information given by the patient. Features:\n",
    "\n",
    "Age | Objective Feature | age | int (days)\n",
    "Height | Objective Feature | height | int (cm) |\n",
    "Weight | Objective Feature | weight | float (kg) |\n",
    "Gender | Objective Feature | gender | categorical code |\n",
    "Systolic blood pressure | Examination Feature | ap_hi | int |\n",
    "Diastolic blood pressure | Examination Feature | ap_lo | int |\n",
    "Cholesterol | Examination Feature | cholesterol | 1: normal, 2: above normal, 3: well above normal |\n",
    "Glucose | Examination Feature | gluc | 1: normal, 2: above normal, 3: well above normal |\n",
    "Smoking | Subjective Feature | smoke | binary |\n",
    "Alcohol intake | Subjective Feature | alco | binary |\n",
    "Physical activity | Subjective Feature | active | binary |\n",
    "Presence or absence of cardiovascular disease | Target Variable | cardio | binary |"
   ]
  },
  {
   "cell_type": "markdown",
   "id": "3efd8dac",
   "metadata": {},
   "source": [
    "# Cardiovascular Disease Detection (EDA, Logistic Regression, Decision Tree, Random Forest,KNN)"
   ]
  },
  {
   "cell_type": "code",
   "execution_count": 1,
   "id": "413f72ec",
   "metadata": {},
   "outputs": [],
   "source": [
    "# Importing essential libraries\n",
    "import numpy as np\n",
    "import pandas as pd\n",
    "import matplotlib.pyplot as plt\n",
    "import seaborn as sns \n",
    "import plotly.express as px\n",
    "%matplotlib inline\n",
    "\n",
    "#EDA\n",
    "from statsmodels.stats.outliers_influence import variance_inflation_factor\n",
    "from statsmodels.tools.tools import add_constant\n",
    "from sklearn.preprocessing import MinMaxScaler\n",
    "from sklearn.model_selection import train_test_split\n",
    "\n",
    "#importing classification models\n",
    "from sklearn.ensemble import RandomForestClassifier, AdaBoostClassifier\n",
    "from sklearn.neighbors import KNeighborsClassifier\n",
    "from sklearn.svm import SVC\n",
    "from sklearn.naive_bayes import GaussianNB\n",
    "from sklearn.tree import DecisionTreeClassifier\n",
    "from sklearn.model_selection import cross_val_score, KFold\n",
    "from sklearn.metrics import (\n",
    "    zero_one_loss, \n",
    "    accuracy_score, \n",
    "    f1_score,\n",
    "    confusion_matrix, \n",
    "    ConfusionMatrixDisplay, \n",
    "    classification_report,\n",
    "    precision_score,\n",
    "    recall_score\n",
    ")\n",
    "from xgboost import XGBClassifier\n",
    "from sklearn import metrics\n",
    "from sklearn.linear_model import LogisticRegression\n",
    "from sklearn.model_selection import GridSearchCV\n",
    "\n",
    "import warnings\n",
    "warnings.filterwarnings('ignore')\n",
    "\n",
    "pd.options.display.max_rows = 9999\n"
   ]
  },
  {
   "cell_type": "markdown",
   "id": "1b31c44a",
   "metadata": {},
   "source": [
    "# Download and Explore the Data"
   ]
  },
  {
   "cell_type": "code",
   "execution_count": 2,
   "id": "8c97b5a8",
   "metadata": {},
   "outputs": [],
   "source": [
    "# Loading the dataframe\n",
    "disease_df = pd.read_csv(r\"C:\\Users\\admin\\Downloads/cardivascular dataset.csv\",sep=';')\n"
   ]
  },
  {
   "cell_type": "code",
   "execution_count": 3,
   "id": "f6fd7c97",
   "metadata": {},
   "outputs": [
    {
     "data": {
      "text/html": [
       "<div>\n",
       "<style scoped>\n",
       "    .dataframe tbody tr th:only-of-type {\n",
       "        vertical-align: middle;\n",
       "    }\n",
       "\n",
       "    .dataframe tbody tr th {\n",
       "        vertical-align: top;\n",
       "    }\n",
       "\n",
       "    .dataframe thead th {\n",
       "        text-align: right;\n",
       "    }\n",
       "</style>\n",
       "<table border=\"1\" class=\"dataframe\">\n",
       "  <thead>\n",
       "    <tr style=\"text-align: right;\">\n",
       "      <th></th>\n",
       "      <th>id</th>\n",
       "      <th>age</th>\n",
       "      <th>gender</th>\n",
       "      <th>height</th>\n",
       "      <th>weight</th>\n",
       "      <th>ap_hi</th>\n",
       "      <th>ap_lo</th>\n",
       "      <th>cholesterol</th>\n",
       "      <th>gluc</th>\n",
       "      <th>smoke</th>\n",
       "      <th>alco</th>\n",
       "      <th>active</th>\n",
       "      <th>cardio</th>\n",
       "    </tr>\n",
       "  </thead>\n",
       "  <tbody>\n",
       "    <tr>\n",
       "      <th>0</th>\n",
       "      <td>0</td>\n",
       "      <td>18393</td>\n",
       "      <td>2</td>\n",
       "      <td>168</td>\n",
       "      <td>62.0</td>\n",
       "      <td>110</td>\n",
       "      <td>80</td>\n",
       "      <td>1</td>\n",
       "      <td>1</td>\n",
       "      <td>0</td>\n",
       "      <td>0</td>\n",
       "      <td>1</td>\n",
       "      <td>0</td>\n",
       "    </tr>\n",
       "    <tr>\n",
       "      <th>1</th>\n",
       "      <td>1</td>\n",
       "      <td>20228</td>\n",
       "      <td>1</td>\n",
       "      <td>156</td>\n",
       "      <td>85.0</td>\n",
       "      <td>140</td>\n",
       "      <td>90</td>\n",
       "      <td>3</td>\n",
       "      <td>1</td>\n",
       "      <td>0</td>\n",
       "      <td>0</td>\n",
       "      <td>1</td>\n",
       "      <td>1</td>\n",
       "    </tr>\n",
       "    <tr>\n",
       "      <th>2</th>\n",
       "      <td>2</td>\n",
       "      <td>18857</td>\n",
       "      <td>1</td>\n",
       "      <td>165</td>\n",
       "      <td>64.0</td>\n",
       "      <td>130</td>\n",
       "      <td>70</td>\n",
       "      <td>3</td>\n",
       "      <td>1</td>\n",
       "      <td>0</td>\n",
       "      <td>0</td>\n",
       "      <td>0</td>\n",
       "      <td>1</td>\n",
       "    </tr>\n",
       "    <tr>\n",
       "      <th>3</th>\n",
       "      <td>3</td>\n",
       "      <td>17623</td>\n",
       "      <td>2</td>\n",
       "      <td>169</td>\n",
       "      <td>82.0</td>\n",
       "      <td>150</td>\n",
       "      <td>100</td>\n",
       "      <td>1</td>\n",
       "      <td>1</td>\n",
       "      <td>0</td>\n",
       "      <td>0</td>\n",
       "      <td>1</td>\n",
       "      <td>1</td>\n",
       "    </tr>\n",
       "    <tr>\n",
       "      <th>4</th>\n",
       "      <td>4</td>\n",
       "      <td>17474</td>\n",
       "      <td>1</td>\n",
       "      <td>156</td>\n",
       "      <td>56.0</td>\n",
       "      <td>100</td>\n",
       "      <td>60</td>\n",
       "      <td>1</td>\n",
       "      <td>1</td>\n",
       "      <td>0</td>\n",
       "      <td>0</td>\n",
       "      <td>0</td>\n",
       "      <td>0</td>\n",
       "    </tr>\n",
       "  </tbody>\n",
       "</table>\n",
       "</div>"
      ],
      "text/plain": [
       "   id    age  gender  height  weight  ap_hi  ap_lo  cholesterol  gluc  smoke  \\\n",
       "0   0  18393       2     168    62.0    110     80            1     1      0   \n",
       "1   1  20228       1     156    85.0    140     90            3     1      0   \n",
       "2   2  18857       1     165    64.0    130     70            3     1      0   \n",
       "3   3  17623       2     169    82.0    150    100            1     1      0   \n",
       "4   4  17474       1     156    56.0    100     60            1     1      0   \n",
       "\n",
       "   alco  active  cardio  \n",
       "0     0       1       0  \n",
       "1     0       1       1  \n",
       "2     0       0       1  \n",
       "3     0       1       1  \n",
       "4     0       0       0  "
      ]
     },
     "execution_count": 3,
     "metadata": {},
     "output_type": "execute_result"
    }
   ],
   "source": [
    "disease_df.head()"
   ]
  },
  {
   "cell_type": "code",
   "execution_count": 4,
   "id": "fc0fa584",
   "metadata": {},
   "outputs": [
    {
     "data": {
      "text/plain": [
       "(70000, 13)"
      ]
     },
     "execution_count": 4,
     "metadata": {},
     "output_type": "execute_result"
    }
   ],
   "source": [
    "# Size of the dataset\n",
    "disease_df.shape"
   ]
  },
  {
   "cell_type": "code",
   "execution_count": 5,
   "id": "9ada78d1",
   "metadata": {},
   "outputs": [
    {
     "name": "stdout",
     "output_type": "stream",
     "text": [
      "<class 'pandas.core.frame.DataFrame'>\n",
      "RangeIndex: 70000 entries, 0 to 69999\n",
      "Data columns (total 13 columns):\n",
      " #   Column       Non-Null Count  Dtype  \n",
      "---  ------       --------------  -----  \n",
      " 0   id           70000 non-null  int64  \n",
      " 1   age          70000 non-null  int64  \n",
      " 2   gender       70000 non-null  int64  \n",
      " 3   height       70000 non-null  int64  \n",
      " 4   weight       70000 non-null  float64\n",
      " 5   ap_hi        70000 non-null  int64  \n",
      " 6   ap_lo        70000 non-null  int64  \n",
      " 7   cholesterol  70000 non-null  int64  \n",
      " 8   gluc         70000 non-null  int64  \n",
      " 9   smoke        70000 non-null  int64  \n",
      " 10  alco         70000 non-null  int64  \n",
      " 11  active       70000 non-null  int64  \n",
      " 12  cardio       70000 non-null  int64  \n",
      "dtypes: float64(1), int64(12)\n",
      "memory usage: 6.9 MB\n"
     ]
    }
   ],
   "source": [
    "disease_df.info()"
   ]
  },
  {
   "cell_type": "code",
   "execution_count": 6,
   "id": "8d4cf685",
   "metadata": {},
   "outputs": [
    {
     "data": {
      "text/plain": [
       "id             70000\n",
       "age             8076\n",
       "gender             2\n",
       "height           109\n",
       "weight           287\n",
       "ap_hi            153\n",
       "ap_lo            157\n",
       "cholesterol        3\n",
       "gluc               3\n",
       "smoke              2\n",
       "alco               2\n",
       "active             2\n",
       "cardio             2\n",
       "dtype: int64"
      ]
     },
     "execution_count": 6,
     "metadata": {},
     "output_type": "execute_result"
    }
   ],
   "source": [
    "disease_df.nunique()"
   ]
  },
  {
   "cell_type": "code",
   "execution_count": 7,
   "id": "5a050492",
   "metadata": {},
   "outputs": [],
   "source": [
    "disease_df.drop('id', inplace=True, axis=1)          #droping ID column(unique values)"
   ]
  },
  {
   "cell_type": "code",
   "execution_count": 8,
   "id": "3fdef2c1",
   "metadata": {},
   "outputs": [],
   "source": [
    "disease_df.drop_duplicates(inplace=True)             #dropping dublicates values"
   ]
  },
  {
   "cell_type": "code",
   "execution_count": 9,
   "id": "127c8343",
   "metadata": {},
   "outputs": [
    {
     "data": {
      "text/html": [
       "<div>\n",
       "<style scoped>\n",
       "    .dataframe tbody tr th:only-of-type {\n",
       "        vertical-align: middle;\n",
       "    }\n",
       "\n",
       "    .dataframe tbody tr th {\n",
       "        vertical-align: top;\n",
       "    }\n",
       "\n",
       "    .dataframe thead th {\n",
       "        text-align: right;\n",
       "    }\n",
       "</style>\n",
       "<table border=\"1\" class=\"dataframe\">\n",
       "  <thead>\n",
       "    <tr style=\"text-align: right;\">\n",
       "      <th></th>\n",
       "      <th>age</th>\n",
       "      <th>gender</th>\n",
       "      <th>height</th>\n",
       "      <th>weight</th>\n",
       "      <th>ap_hi</th>\n",
       "      <th>ap_lo</th>\n",
       "      <th>cholesterol</th>\n",
       "      <th>gluc</th>\n",
       "      <th>smoke</th>\n",
       "      <th>alco</th>\n",
       "      <th>active</th>\n",
       "      <th>cardio</th>\n",
       "    </tr>\n",
       "  </thead>\n",
       "  <tbody>\n",
       "    <tr>\n",
       "      <th>0</th>\n",
       "      <td>18393</td>\n",
       "      <td>2</td>\n",
       "      <td>168</td>\n",
       "      <td>62.0</td>\n",
       "      <td>110</td>\n",
       "      <td>80</td>\n",
       "      <td>1</td>\n",
       "      <td>1</td>\n",
       "      <td>0</td>\n",
       "      <td>0</td>\n",
       "      <td>1</td>\n",
       "      <td>0</td>\n",
       "    </tr>\n",
       "    <tr>\n",
       "      <th>1</th>\n",
       "      <td>20228</td>\n",
       "      <td>1</td>\n",
       "      <td>156</td>\n",
       "      <td>85.0</td>\n",
       "      <td>140</td>\n",
       "      <td>90</td>\n",
       "      <td>3</td>\n",
       "      <td>1</td>\n",
       "      <td>0</td>\n",
       "      <td>0</td>\n",
       "      <td>1</td>\n",
       "      <td>1</td>\n",
       "    </tr>\n",
       "    <tr>\n",
       "      <th>2</th>\n",
       "      <td>18857</td>\n",
       "      <td>1</td>\n",
       "      <td>165</td>\n",
       "      <td>64.0</td>\n",
       "      <td>130</td>\n",
       "      <td>70</td>\n",
       "      <td>3</td>\n",
       "      <td>1</td>\n",
       "      <td>0</td>\n",
       "      <td>0</td>\n",
       "      <td>0</td>\n",
       "      <td>1</td>\n",
       "    </tr>\n",
       "    <tr>\n",
       "      <th>3</th>\n",
       "      <td>17623</td>\n",
       "      <td>2</td>\n",
       "      <td>169</td>\n",
       "      <td>82.0</td>\n",
       "      <td>150</td>\n",
       "      <td>100</td>\n",
       "      <td>1</td>\n",
       "      <td>1</td>\n",
       "      <td>0</td>\n",
       "      <td>0</td>\n",
       "      <td>1</td>\n",
       "      <td>1</td>\n",
       "    </tr>\n",
       "    <tr>\n",
       "      <th>4</th>\n",
       "      <td>17474</td>\n",
       "      <td>1</td>\n",
       "      <td>156</td>\n",
       "      <td>56.0</td>\n",
       "      <td>100</td>\n",
       "      <td>60</td>\n",
       "      <td>1</td>\n",
       "      <td>1</td>\n",
       "      <td>0</td>\n",
       "      <td>0</td>\n",
       "      <td>0</td>\n",
       "      <td>0</td>\n",
       "    </tr>\n",
       "  </tbody>\n",
       "</table>\n",
       "</div>"
      ],
      "text/plain": [
       "     age  gender  height  weight  ap_hi  ap_lo  cholesterol  gluc  smoke  \\\n",
       "0  18393       2     168    62.0    110     80            1     1      0   \n",
       "1  20228       1     156    85.0    140     90            3     1      0   \n",
       "2  18857       1     165    64.0    130     70            3     1      0   \n",
       "3  17623       2     169    82.0    150    100            1     1      0   \n",
       "4  17474       1     156    56.0    100     60            1     1      0   \n",
       "\n",
       "   alco  active  cardio  \n",
       "0     0       1       0  \n",
       "1     0       1       1  \n",
       "2     0       0       1  \n",
       "3     0       1       1  \n",
       "4     0       0       0  "
      ]
     },
     "execution_count": 9,
     "metadata": {},
     "output_type": "execute_result"
    }
   ],
   "source": [
    "disease_df.head()"
   ]
  },
  {
   "cell_type": "code",
   "execution_count": 10,
   "id": "5b6f2d29",
   "metadata": {},
   "outputs": [
    {
     "data": {
      "text/html": [
       "<div>\n",
       "<style scoped>\n",
       "    .dataframe tbody tr th:only-of-type {\n",
       "        vertical-align: middle;\n",
       "    }\n",
       "\n",
       "    .dataframe tbody tr th {\n",
       "        vertical-align: top;\n",
       "    }\n",
       "\n",
       "    .dataframe thead th {\n",
       "        text-align: right;\n",
       "    }\n",
       "</style>\n",
       "<table border=\"1\" class=\"dataframe\">\n",
       "  <thead>\n",
       "    <tr style=\"text-align: right;\">\n",
       "      <th></th>\n",
       "      <th>count</th>\n",
       "      <th>mean</th>\n",
       "      <th>std</th>\n",
       "      <th>min</th>\n",
       "      <th>25%</th>\n",
       "      <th>50%</th>\n",
       "      <th>75%</th>\n",
       "      <th>max</th>\n",
       "    </tr>\n",
       "  </thead>\n",
       "  <tbody>\n",
       "    <tr>\n",
       "      <th>age</th>\n",
       "      <td>69976.0</td>\n",
       "      <td>19468.950126</td>\n",
       "      <td>2467.374620</td>\n",
       "      <td>10798.0</td>\n",
       "      <td>17664.0</td>\n",
       "      <td>19703.0</td>\n",
       "      <td>21327.0</td>\n",
       "      <td>23713.0</td>\n",
       "    </tr>\n",
       "    <tr>\n",
       "      <th>gender</th>\n",
       "      <td>69976.0</td>\n",
       "      <td>1.349648</td>\n",
       "      <td>0.476862</td>\n",
       "      <td>1.0</td>\n",
       "      <td>1.0</td>\n",
       "      <td>1.0</td>\n",
       "      <td>2.0</td>\n",
       "      <td>2.0</td>\n",
       "    </tr>\n",
       "    <tr>\n",
       "      <th>height</th>\n",
       "      <td>69976.0</td>\n",
       "      <td>164.359152</td>\n",
       "      <td>8.211218</td>\n",
       "      <td>55.0</td>\n",
       "      <td>159.0</td>\n",
       "      <td>165.0</td>\n",
       "      <td>170.0</td>\n",
       "      <td>250.0</td>\n",
       "    </tr>\n",
       "    <tr>\n",
       "      <th>weight</th>\n",
       "      <td>69976.0</td>\n",
       "      <td>74.208519</td>\n",
       "      <td>14.397211</td>\n",
       "      <td>10.0</td>\n",
       "      <td>65.0</td>\n",
       "      <td>72.0</td>\n",
       "      <td>82.0</td>\n",
       "      <td>200.0</td>\n",
       "    </tr>\n",
       "    <tr>\n",
       "      <th>ap_hi</th>\n",
       "      <td>69976.0</td>\n",
       "      <td>128.820453</td>\n",
       "      <td>154.037729</td>\n",
       "      <td>-150.0</td>\n",
       "      <td>120.0</td>\n",
       "      <td>120.0</td>\n",
       "      <td>140.0</td>\n",
       "      <td>16020.0</td>\n",
       "    </tr>\n",
       "    <tr>\n",
       "      <th>ap_lo</th>\n",
       "      <td>69976.0</td>\n",
       "      <td>96.636261</td>\n",
       "      <td>188.504581</td>\n",
       "      <td>-70.0</td>\n",
       "      <td>80.0</td>\n",
       "      <td>80.0</td>\n",
       "      <td>90.0</td>\n",
       "      <td>11000.0</td>\n",
       "    </tr>\n",
       "    <tr>\n",
       "      <th>cholesterol</th>\n",
       "      <td>69976.0</td>\n",
       "      <td>1.366997</td>\n",
       "      <td>0.680333</td>\n",
       "      <td>1.0</td>\n",
       "      <td>1.0</td>\n",
       "      <td>1.0</td>\n",
       "      <td>2.0</td>\n",
       "      <td>3.0</td>\n",
       "    </tr>\n",
       "    <tr>\n",
       "      <th>gluc</th>\n",
       "      <td>69976.0</td>\n",
       "      <td>1.226535</td>\n",
       "      <td>0.572353</td>\n",
       "      <td>1.0</td>\n",
       "      <td>1.0</td>\n",
       "      <td>1.0</td>\n",
       "      <td>1.0</td>\n",
       "      <td>3.0</td>\n",
       "    </tr>\n",
       "    <tr>\n",
       "      <th>smoke</th>\n",
       "      <td>69976.0</td>\n",
       "      <td>0.088159</td>\n",
       "      <td>0.283528</td>\n",
       "      <td>0.0</td>\n",
       "      <td>0.0</td>\n",
       "      <td>0.0</td>\n",
       "      <td>0.0</td>\n",
       "      <td>1.0</td>\n",
       "    </tr>\n",
       "    <tr>\n",
       "      <th>alco</th>\n",
       "      <td>69976.0</td>\n",
       "      <td>0.053790</td>\n",
       "      <td>0.225604</td>\n",
       "      <td>0.0</td>\n",
       "      <td>0.0</td>\n",
       "      <td>0.0</td>\n",
       "      <td>0.0</td>\n",
       "      <td>1.0</td>\n",
       "    </tr>\n",
       "    <tr>\n",
       "      <th>active</th>\n",
       "      <td>69976.0</td>\n",
       "      <td>0.803718</td>\n",
       "      <td>0.397187</td>\n",
       "      <td>0.0</td>\n",
       "      <td>1.0</td>\n",
       "      <td>1.0</td>\n",
       "      <td>1.0</td>\n",
       "      <td>1.0</td>\n",
       "    </tr>\n",
       "    <tr>\n",
       "      <th>cardio</th>\n",
       "      <td>69976.0</td>\n",
       "      <td>0.499771</td>\n",
       "      <td>0.500004</td>\n",
       "      <td>0.0</td>\n",
       "      <td>0.0</td>\n",
       "      <td>0.0</td>\n",
       "      <td>1.0</td>\n",
       "      <td>1.0</td>\n",
       "    </tr>\n",
       "  </tbody>\n",
       "</table>\n",
       "</div>"
      ],
      "text/plain": [
       "               count          mean          std      min      25%      50%  \\\n",
       "age          69976.0  19468.950126  2467.374620  10798.0  17664.0  19703.0   \n",
       "gender       69976.0      1.349648     0.476862      1.0      1.0      1.0   \n",
       "height       69976.0    164.359152     8.211218     55.0    159.0    165.0   \n",
       "weight       69976.0     74.208519    14.397211     10.0     65.0     72.0   \n",
       "ap_hi        69976.0    128.820453   154.037729   -150.0    120.0    120.0   \n",
       "ap_lo        69976.0     96.636261   188.504581    -70.0     80.0     80.0   \n",
       "cholesterol  69976.0      1.366997     0.680333      1.0      1.0      1.0   \n",
       "gluc         69976.0      1.226535     0.572353      1.0      1.0      1.0   \n",
       "smoke        69976.0      0.088159     0.283528      0.0      0.0      0.0   \n",
       "alco         69976.0      0.053790     0.225604      0.0      0.0      0.0   \n",
       "active       69976.0      0.803718     0.397187      0.0      1.0      1.0   \n",
       "cardio       69976.0      0.499771     0.500004      0.0      0.0      0.0   \n",
       "\n",
       "                 75%      max  \n",
       "age          21327.0  23713.0  \n",
       "gender           2.0      2.0  \n",
       "height         170.0    250.0  \n",
       "weight          82.0    200.0  \n",
       "ap_hi          140.0  16020.0  \n",
       "ap_lo           90.0  11000.0  \n",
       "cholesterol      2.0      3.0  \n",
       "gluc             1.0      3.0  \n",
       "smoke            0.0      1.0  \n",
       "alco             0.0      1.0  \n",
       "active           1.0      1.0  \n",
       "cardio           1.0      1.0  "
      ]
     },
     "execution_count": 10,
     "metadata": {},
     "output_type": "execute_result"
    }
   ],
   "source": [
    "disease_df.describe().T"
   ]
  },
  {
   "cell_type": "markdown",
   "id": "7a5e703d",
   "metadata": {},
   "source": [
    "Age is given in number of days, we need ot convert it into years."
   ]
  },
  {
   "cell_type": "code",
   "execution_count": 11,
   "id": "91a5de9f",
   "metadata": {},
   "outputs": [],
   "source": [
    "#Converting age from days to years\n",
    "disease_df['age'] = (disease_df['age'] / 365).round().astype('int64')"
   ]
  },
  {
   "cell_type": "code",
   "execution_count": 12,
   "id": "ca5e2ff6",
   "metadata": {},
   "outputs": [],
   "source": [
    "#ap_lo (diastolic bp) cannot be higher than ap_hi (systolic bp)\n",
    "disease_df =disease_df.drop(disease_df[disease_df['ap_lo'] > disease_df['ap_hi']].index)"
   ]
  },
  {
   "cell_type": "code",
   "execution_count": 13,
   "id": "a27a5161",
   "metadata": {},
   "outputs": [],
   "source": [
    "#create a body mass index 'bmi' feature from weight and height columns\n",
    "disease_df[\"bmi\"] = disease_df[\"weight\"] / (disease_df[\"height\"]/100)**2"
   ]
  },
  {
   "cell_type": "code",
   "execution_count": 14,
   "id": "76d790be",
   "metadata": {},
   "outputs": [
    {
     "data": {
      "text/plain": [
       "(68742, 13)"
      ]
     },
     "execution_count": 14,
     "metadata": {},
     "output_type": "execute_result"
    }
   ],
   "source": [
    "disease_df.shape"
   ]
  },
  {
   "cell_type": "code",
   "execution_count": 15,
   "id": "5fdda92a",
   "metadata": {},
   "outputs": [
    {
     "data": {
      "text/plain": [
       "age            0\n",
       "gender         0\n",
       "height         0\n",
       "weight         0\n",
       "ap_hi          0\n",
       "ap_lo          0\n",
       "cholesterol    0\n",
       "gluc           0\n",
       "smoke          0\n",
       "alco           0\n",
       "active         0\n",
       "cardio         0\n",
       "bmi            0\n",
       "dtype: int64"
      ]
     },
     "execution_count": 15,
     "metadata": {},
     "output_type": "execute_result"
    }
   ],
   "source": [
    "disease_df.isnull().sum()"
   ]
  },
  {
   "cell_type": "code",
   "execution_count": 16,
   "id": "c80e962f",
   "metadata": {},
   "outputs": [
    {
     "name": "stdout",
     "output_type": "stream",
     "text": [
      "age :  0\n",
      "height :  0\n",
      "weight :  0\n",
      "ap_lo :  1\n",
      "ap_hi :  0\n",
      "bmi :  0\n"
     ]
    }
   ],
   "source": [
    "columns = ['age', 'height', 'weight', 'ap_lo', 'ap_hi', 'bmi']\n",
    "for col in columns:\n",
    "    column = disease_df[col]\n",
    "    count = (column < 0).sum()\n",
    "    print(col, ': ', count)"
   ]
  },
  {
   "cell_type": "code",
   "execution_count": 17,
   "id": "373df6cb",
   "metadata": {},
   "outputs": [],
   "source": [
    "#There is one negative values in ap_lo, diastolic bp cannot be negative. Eliminating this value\n",
    "disease_df = disease_df.drop(disease_df[disease_df['ap_lo'] < 0].index)"
   ]
  },
  {
   "cell_type": "code",
   "execution_count": 18,
   "id": "b6a340bb",
   "metadata": {},
   "outputs": [
    {
     "data": {
      "text/plain": [
       "(68741, 13)"
      ]
     },
     "execution_count": 18,
     "metadata": {},
     "output_type": "execute_result"
    }
   ],
   "source": [
    "disease_df.shape"
   ]
  },
  {
   "cell_type": "code",
   "execution_count": 19,
   "id": "c6739c54",
   "metadata": {},
   "outputs": [],
   "source": [
    "#Systolic bp cannot be lower than 70 and higher than 200, diastolic bp cannot be less than 40 and more than 130.\n",
    "#We remove the values which do not pass this criteria.\n",
    "\n",
    "disease_df.drop(disease_df[(disease_df.ap_hi < 70) | (disease_df.ap_hi > 200)].index, inplace = True)\n",
    "disease_df.drop(disease_df[(disease_df.ap_lo < 40) | (disease_df.ap_lo > 130)].index, inplace = True)"
   ]
  },
  {
   "cell_type": "code",
   "execution_count": 20,
   "id": "c8eb8c68",
   "metadata": {},
   "outputs": [
    {
     "data": {
      "text/plain": [
       "(68582, 13)"
      ]
     },
     "execution_count": 20,
     "metadata": {},
     "output_type": "execute_result"
    }
   ],
   "source": [
    "disease_df.shape"
   ]
  },
  {
   "cell_type": "code",
   "execution_count": 21,
   "id": "1463ed0c",
   "metadata": {},
   "outputs": [
    {
     "data": {
      "text/plain": [
       "0.731224795005918"
      ]
     },
     "execution_count": 21,
     "metadata": {},
     "output_type": "execute_result"
    }
   ],
   "source": [
    "disease_df['ap_hi'].corr(disease_df['ap_lo'])"
   ]
  },
  {
   "cell_type": "markdown",
   "id": "8a0f1830",
   "metadata": {},
   "source": [
    "# Exploratory Data Analysis (EDA)"
   ]
  },
  {
   "cell_type": "raw",
   "id": "282e8876",
   "metadata": {},
   "source": [
    "The original dataset is already ordinally encoded. But for interpretation purposes during visualization, I created a new dataframe, in which ordinal numbers were replaced with corresponding categorical values."
   ]
  },
  {
   "cell_type": "code",
   "execution_count": 22,
   "id": "e469459b",
   "metadata": {},
   "outputs": [],
   "source": [
    "df = disease_df.copy(deep = True)\n",
    "\n",
    "df['gender'].replace({1: 'woman', 2: 'man'}, inplace = True)\n",
    "df['cholesterol'].replace({1: 'normal', 2: 'above normal', 3: 'well above normal'}, inplace = True)\n",
    "df['gluc'].replace({1: 'normal', 2: 'above normal', 3: 'well above normal'}, inplace = True)\n",
    "df['smoke'].replace({0: 'No', 1: 'Yes'}, inplace = True)\n",
    "df['alco'].replace({0: 'No', 1: 'Yes'}, inplace = True)\n",
    "df['active'].replace({0: 'No', 1: 'Yes'}, inplace = True)\n",
    "df['cardio'].replace({0: 'No', 1: 'Yes'}, inplace = True)"
   ]
  },
  {
   "cell_type": "code",
   "execution_count": 23,
   "id": "4eaa2f7b",
   "metadata": {},
   "outputs": [
    {
     "data": {
      "text/plain": [
       "<matplotlib.legend.Legend at 0x200a11510d0>"
      ]
     },
     "execution_count": 23,
     "metadata": {},
     "output_type": "execute_result"
    },
    {
     "data": {
      "image/png": "[encoded data removed]",
      "text/plain": [
       "<Figure size 1800x1080 with 2 Axes>"
      ]
     },
     "metadata": {
      "needs_background": "light"
     },
     "output_type": "display_data"
    }
   ],
   "source": [
    "plt.figure(figsize =(25,15))\n",
    "ax = plt.subplot(4,3, 1)\n",
    "ax = df.groupby('cardio')['age'].plot(kind='kde', legend=True)\n",
    "plt.title('CVD diagnosis based on age')\n",
    "plt.xlabel('Age')\n",
    "plt.legend(title=\"CVD\")\n",
    "\n",
    "ax = plt.subplot(4,3, 2)\n",
    "ax = df.groupby('cardio')['bmi'].plot(kind='kde', legend=True)\n",
    "plt.title('CVD diagnosis based on body mass index')\n",
    "plt.xlabel('body mass index')\n",
    "plt.legend(title=\"CVD\")"
   ]
  },
  {
   "cell_type": "code",
   "execution_count": 24,
   "id": "a5789538",
   "metadata": {},
   "outputs": [
    {
     "data": {
      "text/plain": [
       "Text(0.5, 1.0, 'cardiovascluar disease presence with age')"
      ]
     },
     "execution_count": 24,
     "metadata": {},
     "output_type": "execute_result"
    },
    {
     "data": {
      "image/png": "[encoded data removed]",
      "text/plain": [
       "<Figure size 720x504 with 1 Axes>"
      ]
     },
     "metadata": {
      "needs_background": "light"
     },
     "output_type": "display_data"
    }
   ],
   "source": [
    "palette = {'No': '#377EB8', 'Yes': '#E41A1C'}\n",
    "plt.figure(figsize=(10,7))\n",
    "sns.histplot(data = df, x = 'age', hue = 'cardio', binwidth = 1, palette = palette, stat = 'count', alpha = 0.5)\n",
    "plt.title(\"cardiovascluar disease presence with age\")"
   ]
  },
  {
   "cell_type": "code",
   "execution_count": 25,
   "id": "a386d27f",
   "metadata": {},
   "outputs": [
    {
     "data": {
      "text/plain": [
       "Text(0.5, 1.0, 'cardiovascluar disease presence with age')"
      ]
     },
     "execution_count": 25,
     "metadata": {},
     "output_type": "execute_result"
    },
    {
     "data": {
      "image/png": "[encoded data removed]",
      "text/plain": [
       "<Figure size 504x360 with 1 Axes>"
      ]
     },
     "metadata": {
      "needs_background": "light"
     },
     "output_type": "display_data"
    }
   ],
   "source": [
    "plt.figure(figsize=(7,5))\n",
    "sns.countplot(data = df, x = 'cardio', hue = 'gender')\n",
    "plt.title(\"cardiovascluar disease presence with age\")"
   ]
  },
  {
   "cell_type": "markdown",
   "id": "24143be7",
   "metadata": {},
   "source": [
    "From the above graphs,\n",
    "\n",
    "1.The people who are much older have more chances of having cardio vascular disease. people in the age range 55 to 65.\n",
    "2.From age 40 to 50, it is less likely to have CVD.\n",
    "3.The dataset reflects \"woman\" in about 65% of the cases, and \"men\" in the remaining 35%. However, the proportions of those with disease and those without it are roughly identical in both groups."
   ]
  },
  {
   "cell_type": "code",
   "execution_count": 26,
   "id": "fddb324c",
   "metadata": {},
   "outputs": [
    {
     "name": "stdout",
     "output_type": "stream",
     "text": [
      "Average age: 53.32575602927882\n",
      "\n",
      "If your age is 53.32575602927882 or above 53.32575602927882\n",
      "1    0.584169\n",
      "0    0.415831\n",
      "Name: cardio, dtype: float64\n"
     ]
    }
   ],
   "source": [
    "mean_age = disease_df['age'].mean()\n",
    "print('Average age:', mean_age)\n",
    "\n",
    "cardio_count = disease_df[(disease_df['age'] > mean_age) | (disease_df['age'] == mean_age)].cardio.value_counts()\n",
    "\n",
    "print('\\nIf your age is', mean_age, 'or above', mean_age)\n",
    "print(cardio_count / cardio_count.sum())"
   ]
  },
  {
   "cell_type": "raw",
   "id": "00483601",
   "metadata": {},
   "source": [
    "IF YOUR AGE 53 OR GREATER THAN 53 ,THEN YOU HAVE 58% CHANCES TO GETTING CARDIO DISEASE"
   ]
  },
  {
   "cell_type": "code",
   "execution_count": 27,
   "id": "207d790a",
   "metadata": {
    "scrolled": true
   },
   "outputs": [
    {
     "data": {
      "text/plain": [
       "<Figure size 720x360 with 0 Axes>"
      ]
     },
     "metadata": {},
     "output_type": "display_data"
    },
    {
     "data": {
      "image/png": "[encoded data removed]",
      "text/plain": [
       "<Figure size 576x360 with 2 Axes>"
      ]
     },
     "metadata": {
      "needs_background": "light"
     },
     "output_type": "display_data"
    }
   ],
   "source": [
    "# heatmap for correlation\n",
    "plt.figure(figsize=(10,5))\n",
    "# heatmap for correlation\n",
    "plt.figure(figsize = (8, 5))\n",
    "plt.title('Correlation Matrix for Independent Variables', fontsize = 16, y = 1.05)\n",
    "\n",
    "sns.heatmap(df[columns].corr(), annot = True, cmap = 'Reds');"
   ]
  },
  {
   "cell_type": "code",
   "execution_count": 28,
   "id": "25904286",
   "metadata": {},
   "outputs": [
    {
     "data": {
      "image/png": "[encoded data removed]",
      "text/plain": [
       "<Figure size 1800x1080 with 6 Axes>"
      ]
     },
     "metadata": {
      "needs_background": "light"
     },
     "output_type": "display_data"
    }
   ],
   "source": [
    "plt.figure(figsize=(25, 15))\n",
    "for i, col in enumerate(columns):\n",
    "#     print(i, col)\n",
    "    ax = plt.subplot(4,3, i+1)\n",
    "    sns.histplot(data=df, x=col, ax=ax,color='blue',kde=True)\n",
    "    plt.suptitle('Data distribution')\n",
    "    plt.tight_layout()"
   ]
  },
  {
   "cell_type": "code",
   "execution_count": 29,
   "id": "a332392f",
   "metadata": {},
   "outputs": [
    {
     "data": {
      "text/plain": [
       "<AxesSubplot:>"
      ]
     },
     "execution_count": 29,
     "metadata": {},
     "output_type": "execute_result"
    },
    {
     "data": {
      "image/png": "[encoded data removed]",
      "text/plain": [
       "<Figure size 1080x576 with 1 Axes>"
      ]
     },
     "metadata": {
      "needs_background": "light"
     },
     "output_type": "display_data"
    }
   ],
   "source": [
    "fig=plt.figure(figsize=(15,8))\n",
    "df.boxplot()"
   ]
  },
  {
   "cell_type": "code",
   "execution_count": 30,
   "id": "0381ed5e",
   "metadata": {},
   "outputs": [
    {
     "data": {
      "text/plain": [
       "(68582, 13)"
      ]
     },
     "execution_count": 30,
     "metadata": {},
     "output_type": "execute_result"
    }
   ],
   "source": [
    "df.shape"
   ]
  },
  {
   "cell_type": "markdown",
   "id": "5aed340b",
   "metadata": {},
   "source": [
    "Compared to the shape of the dataset, the outliers detected above can be removed instead of imputing them with any values such as mean, 5th and 95th percentile values and so on."
   ]
  },
  {
   "cell_type": "code",
   "execution_count": 31,
   "id": "6545e51c",
   "metadata": {},
   "outputs": [
    {
     "name": "stdout",
     "output_type": "stream",
     "text": [
      "Outliers in age: 4\n",
      "Outliers in height: 505\n",
      "Outliers in weight: 1738\n",
      "Outliers in ap_lo: 3445\n",
      "Outliers in ap_hi: 946\n",
      "Outliers in bmi: 2017\n"
     ]
    }
   ],
   "source": [
    "# Checking outliers - detecting and handling outliers only for the continuous features\n",
    "for col in columns:\n",
    "    q1 = disease_df[col].quantile(0.25)\n",
    "    q3 = disease_df[col].quantile(0.75)\n",
    "    IQR = q3-q1\n",
    "    min_Value = q1-1.5*IQR\n",
    "    max_Value = q3+1.5*IQR\n",
    "\n",
    "    outliers = []\n",
    "    for i in disease_df[col]:\n",
    "        #print(i)\n",
    "        if i< min_Value or i>max_Value:\n",
    "            outliers.append(i)\n",
    "    print(f\"Outliers in {col}:\",len(outliers))\n",
    "    \n",
    "    df_out = disease_df.loc[(disease_df[col] > min_Value) & (disease_df[col] < max_Value)]\n"
   ]
  },
  {
   "cell_type": "code",
   "execution_count": 32,
   "id": "3e61dfb9",
   "metadata": {},
   "outputs": [
    {
     "data": {
      "image/png": "[encoded data removed]",
      "text/plain": [
       "<Figure size 1080x864 with 5 Axes>"
      ]
     },
     "metadata": {
      "needs_background": "light"
     },
     "output_type": "display_data"
    }
   ],
   "source": [
    "plt.figure(figsize=(15, 12))\n",
    "category = [\"cholesterol\", \"gluc\", \"smoke\", \"alco\", \"active\"]\n",
    "for i, col in enumerate(category):\n",
    "    ax = plt.subplot(3, 2, i + 1)\n",
    "    x = pd.crosstab(df[col], df[\"cardio\"])\n",
    "    x.plot(kind=\"bar\", stacked=True, ax=ax)\n",
    "plt.show()"
   ]
  },
  {
   "cell_type": "code",
   "execution_count": 33,
   "id": "6d2fe796",
   "metadata": {},
   "outputs": [
    {
     "data": {
      "text/plain": [
       "(66565, 13)"
      ]
     },
     "execution_count": 33,
     "metadata": {},
     "output_type": "execute_result"
    }
   ],
   "source": [
    "df_out.shape"
   ]
  },
  {
   "cell_type": "code",
   "execution_count": 34,
   "id": "1a8e2c4d",
   "metadata": {},
   "outputs": [
    {
     "data": {
      "text/html": [
       "<div>\n",
       "<style scoped>\n",
       "    .dataframe tbody tr th:only-of-type {\n",
       "        vertical-align: middle;\n",
       "    }\n",
       "\n",
       "    .dataframe tbody tr th {\n",
       "        vertical-align: top;\n",
       "    }\n",
       "\n",
       "    .dataframe thead th {\n",
       "        text-align: right;\n",
       "    }\n",
       "</style>\n",
       "<table border=\"1\" class=\"dataframe\">\n",
       "  <thead>\n",
       "    <tr style=\"text-align: right;\">\n",
       "      <th></th>\n",
       "      <th>count</th>\n",
       "      <th>mean</th>\n",
       "      <th>std</th>\n",
       "      <th>min</th>\n",
       "      <th>25%</th>\n",
       "      <th>50%</th>\n",
       "      <th>75%</th>\n",
       "      <th>max</th>\n",
       "    </tr>\n",
       "  </thead>\n",
       "  <tbody>\n",
       "    <tr>\n",
       "      <th>age</th>\n",
       "      <td>66565.0</td>\n",
       "      <td>53.298655</td>\n",
       "      <td>6.774862</td>\n",
       "      <td>30.000000</td>\n",
       "      <td>48.00000</td>\n",
       "      <td>54.000000</td>\n",
       "      <td>58.0000</td>\n",
       "      <td>65.000000</td>\n",
       "    </tr>\n",
       "    <tr>\n",
       "      <th>gender</th>\n",
       "      <td>66565.0</td>\n",
       "      <td>1.354916</td>\n",
       "      <td>0.478492</td>\n",
       "      <td>1.000000</td>\n",
       "      <td>1.00000</td>\n",
       "      <td>1.000000</td>\n",
       "      <td>2.0000</td>\n",
       "      <td>2.000000</td>\n",
       "    </tr>\n",
       "    <tr>\n",
       "      <th>height</th>\n",
       "      <td>66565.0</td>\n",
       "      <td>164.577375</td>\n",
       "      <td>7.801307</td>\n",
       "      <td>120.000000</td>\n",
       "      <td>159.00000</td>\n",
       "      <td>165.000000</td>\n",
       "      <td>170.0000</td>\n",
       "      <td>207.000000</td>\n",
       "    </tr>\n",
       "    <tr>\n",
       "      <th>weight</th>\n",
       "      <td>66565.0</td>\n",
       "      <td>73.032437</td>\n",
       "      <td>12.711089</td>\n",
       "      <td>28.000000</td>\n",
       "      <td>64.00000</td>\n",
       "      <td>71.000000</td>\n",
       "      <td>80.0000</td>\n",
       "      <td>135.000000</td>\n",
       "    </tr>\n",
       "    <tr>\n",
       "      <th>ap_hi</th>\n",
       "      <td>66565.0</td>\n",
       "      <td>126.283933</td>\n",
       "      <td>16.311126</td>\n",
       "      <td>70.000000</td>\n",
       "      <td>120.00000</td>\n",
       "      <td>120.000000</td>\n",
       "      <td>140.0000</td>\n",
       "      <td>200.000000</td>\n",
       "    </tr>\n",
       "    <tr>\n",
       "      <th>ap_lo</th>\n",
       "      <td>66565.0</td>\n",
       "      <td>81.112612</td>\n",
       "      <td>9.266658</td>\n",
       "      <td>40.000000</td>\n",
       "      <td>80.00000</td>\n",
       "      <td>80.000000</td>\n",
       "      <td>90.0000</td>\n",
       "      <td>130.000000</td>\n",
       "    </tr>\n",
       "    <tr>\n",
       "      <th>cholesterol</th>\n",
       "      <td>66565.0</td>\n",
       "      <td>1.356358</td>\n",
       "      <td>0.672342</td>\n",
       "      <td>1.000000</td>\n",
       "      <td>1.00000</td>\n",
       "      <td>1.000000</td>\n",
       "      <td>1.0000</td>\n",
       "      <td>3.000000</td>\n",
       "    </tr>\n",
       "    <tr>\n",
       "      <th>gluc</th>\n",
       "      <td>66565.0</td>\n",
       "      <td>1.220191</td>\n",
       "      <td>0.566020</td>\n",
       "      <td>1.000000</td>\n",
       "      <td>1.00000</td>\n",
       "      <td>1.000000</td>\n",
       "      <td>1.0000</td>\n",
       "      <td>3.000000</td>\n",
       "    </tr>\n",
       "    <tr>\n",
       "      <th>smoke</th>\n",
       "      <td>66565.0</td>\n",
       "      <td>0.089011</td>\n",
       "      <td>0.284761</td>\n",
       "      <td>0.000000</td>\n",
       "      <td>0.00000</td>\n",
       "      <td>0.000000</td>\n",
       "      <td>0.0000</td>\n",
       "      <td>1.000000</td>\n",
       "    </tr>\n",
       "    <tr>\n",
       "      <th>alco</th>\n",
       "      <td>66565.0</td>\n",
       "      <td>0.053286</td>\n",
       "      <td>0.224605</td>\n",
       "      <td>0.000000</td>\n",
       "      <td>0.00000</td>\n",
       "      <td>0.000000</td>\n",
       "      <td>0.0000</td>\n",
       "      <td>1.000000</td>\n",
       "    </tr>\n",
       "    <tr>\n",
       "      <th>active</th>\n",
       "      <td>66565.0</td>\n",
       "      <td>0.804191</td>\n",
       "      <td>0.396825</td>\n",
       "      <td>0.000000</td>\n",
       "      <td>1.00000</td>\n",
       "      <td>1.000000</td>\n",
       "      <td>1.0000</td>\n",
       "      <td>1.000000</td>\n",
       "    </tr>\n",
       "    <tr>\n",
       "      <th>cardio</th>\n",
       "      <td>66565.0</td>\n",
       "      <td>0.488665</td>\n",
       "      <td>0.499875</td>\n",
       "      <td>0.000000</td>\n",
       "      <td>0.00000</td>\n",
       "      <td>0.000000</td>\n",
       "      <td>1.0000</td>\n",
       "      <td>1.000000</td>\n",
       "    </tr>\n",
       "    <tr>\n",
       "      <th>bmi</th>\n",
       "      <td>66565.0</td>\n",
       "      <td>26.972540</td>\n",
       "      <td>4.410616</td>\n",
       "      <td>14.524328</td>\n",
       "      <td>23.80869</td>\n",
       "      <td>26.171875</td>\n",
       "      <td>29.7442</td>\n",
       "      <td>39.476813</td>\n",
       "    </tr>\n",
       "  </tbody>\n",
       "</table>\n",
       "</div>"
      ],
      "text/plain": [
       "               count        mean        std         min        25%  \\\n",
       "age          66565.0   53.298655   6.774862   30.000000   48.00000   \n",
       "gender       66565.0    1.354916   0.478492    1.000000    1.00000   \n",
       "height       66565.0  164.577375   7.801307  120.000000  159.00000   \n",
       "weight       66565.0   73.032437  12.711089   28.000000   64.00000   \n",
       "ap_hi        66565.0  126.283933  16.311126   70.000000  120.00000   \n",
       "ap_lo        66565.0   81.112612   9.266658   40.000000   80.00000   \n",
       "cholesterol  66565.0    1.356358   0.672342    1.000000    1.00000   \n",
       "gluc         66565.0    1.220191   0.566020    1.000000    1.00000   \n",
       "smoke        66565.0    0.089011   0.284761    0.000000    0.00000   \n",
       "alco         66565.0    0.053286   0.224605    0.000000    0.00000   \n",
       "active       66565.0    0.804191   0.396825    0.000000    1.00000   \n",
       "cardio       66565.0    0.488665   0.499875    0.000000    0.00000   \n",
       "bmi          66565.0   26.972540   4.410616   14.524328   23.80869   \n",
       "\n",
       "                    50%       75%         max  \n",
       "age           54.000000   58.0000   65.000000  \n",
       "gender         1.000000    2.0000    2.000000  \n",
       "height       165.000000  170.0000  207.000000  \n",
       "weight        71.000000   80.0000  135.000000  \n",
       "ap_hi        120.000000  140.0000  200.000000  \n",
       "ap_lo         80.000000   90.0000  130.000000  \n",
       "cholesterol    1.000000    1.0000    3.000000  \n",
       "gluc           1.000000    1.0000    3.000000  \n",
       "smoke          0.000000    0.0000    1.000000  \n",
       "alco           0.000000    0.0000    1.000000  \n",
       "active         1.000000    1.0000    1.000000  \n",
       "cardio         0.000000    1.0000    1.000000  \n",
       "bmi           26.171875   29.7442   39.476813  "
      ]
     },
     "execution_count": 34,
     "metadata": {},
     "output_type": "execute_result"
    }
   ],
   "source": [
    "df_out.describe().T"
   ]
  },
  {
   "cell_type": "code",
   "execution_count": 35,
   "id": "f0e76101",
   "metadata": {},
   "outputs": [
    {
     "data": {
      "text/plain": [
       "0    34037\n",
       "1    32528\n",
       "Name: cardio, dtype: int64"
      ]
     },
     "execution_count": 35,
     "metadata": {},
     "output_type": "execute_result"
    }
   ],
   "source": [
    "df_out['cardio'].value_counts()"
   ]
  },
  {
   "cell_type": "markdown",
   "id": "fa6082ad",
   "metadata": {},
   "source": [
    "# Seprate dependent and independent columns¶"
   ]
  },
  {
   "cell_type": "code",
   "execution_count": 36,
   "id": "f7383fc6",
   "metadata": {},
   "outputs": [
    {
     "data": {
      "text/html": [
       "<div>\n",
       "<style scoped>\n",
       "    .dataframe tbody tr th:only-of-type {\n",
       "        vertical-align: middle;\n",
       "    }\n",
       "\n",
       "    .dataframe tbody tr th {\n",
       "        vertical-align: top;\n",
       "    }\n",
       "\n",
       "    .dataframe thead th {\n",
       "        text-align: right;\n",
       "    }\n",
       "</style>\n",
       "<table border=\"1\" class=\"dataframe\">\n",
       "  <thead>\n",
       "    <tr style=\"text-align: right;\">\n",
       "      <th></th>\n",
       "      <th>age</th>\n",
       "      <th>gender</th>\n",
       "      <th>height</th>\n",
       "      <th>weight</th>\n",
       "      <th>ap_hi</th>\n",
       "      <th>ap_lo</th>\n",
       "      <th>cholesterol</th>\n",
       "      <th>gluc</th>\n",
       "      <th>smoke</th>\n",
       "      <th>alco</th>\n",
       "      <th>active</th>\n",
       "      <th>cardio</th>\n",
       "      <th>bmi</th>\n",
       "    </tr>\n",
       "  </thead>\n",
       "  <tbody>\n",
       "    <tr>\n",
       "      <th>0</th>\n",
       "      <td>50</td>\n",
       "      <td>2</td>\n",
       "      <td>168</td>\n",
       "      <td>62.0</td>\n",
       "      <td>110</td>\n",
       "      <td>80</td>\n",
       "      <td>1</td>\n",
       "      <td>1</td>\n",
       "      <td>0</td>\n",
       "      <td>0</td>\n",
       "      <td>1</td>\n",
       "      <td>0</td>\n",
       "      <td>21.967120</td>\n",
       "    </tr>\n",
       "    <tr>\n",
       "      <th>1</th>\n",
       "      <td>55</td>\n",
       "      <td>1</td>\n",
       "      <td>156</td>\n",
       "      <td>85.0</td>\n",
       "      <td>140</td>\n",
       "      <td>90</td>\n",
       "      <td>3</td>\n",
       "      <td>1</td>\n",
       "      <td>0</td>\n",
       "      <td>0</td>\n",
       "      <td>1</td>\n",
       "      <td>1</td>\n",
       "      <td>34.927679</td>\n",
       "    </tr>\n",
       "    <tr>\n",
       "      <th>2</th>\n",
       "      <td>52</td>\n",
       "      <td>1</td>\n",
       "      <td>165</td>\n",
       "      <td>64.0</td>\n",
       "      <td>130</td>\n",
       "      <td>70</td>\n",
       "      <td>3</td>\n",
       "      <td>1</td>\n",
       "      <td>0</td>\n",
       "      <td>0</td>\n",
       "      <td>0</td>\n",
       "      <td>1</td>\n",
       "      <td>23.507805</td>\n",
       "    </tr>\n",
       "    <tr>\n",
       "      <th>3</th>\n",
       "      <td>48</td>\n",
       "      <td>2</td>\n",
       "      <td>169</td>\n",
       "      <td>82.0</td>\n",
       "      <td>150</td>\n",
       "      <td>100</td>\n",
       "      <td>1</td>\n",
       "      <td>1</td>\n",
       "      <td>0</td>\n",
       "      <td>0</td>\n",
       "      <td>1</td>\n",
       "      <td>1</td>\n",
       "      <td>28.710479</td>\n",
       "    </tr>\n",
       "    <tr>\n",
       "      <th>4</th>\n",
       "      <td>48</td>\n",
       "      <td>1</td>\n",
       "      <td>156</td>\n",
       "      <td>56.0</td>\n",
       "      <td>100</td>\n",
       "      <td>60</td>\n",
       "      <td>1</td>\n",
       "      <td>1</td>\n",
       "      <td>0</td>\n",
       "      <td>0</td>\n",
       "      <td>0</td>\n",
       "      <td>0</td>\n",
       "      <td>23.011177</td>\n",
       "    </tr>\n",
       "  </tbody>\n",
       "</table>\n",
       "</div>"
      ],
      "text/plain": [
       "   age  gender  height  weight  ap_hi  ap_lo  cholesterol  gluc  smoke  alco  \\\n",
       "0   50       2     168    62.0    110     80            1     1      0     0   \n",
       "1   55       1     156    85.0    140     90            3     1      0     0   \n",
       "2   52       1     165    64.0    130     70            3     1      0     0   \n",
       "3   48       2     169    82.0    150    100            1     1      0     0   \n",
       "4   48       1     156    56.0    100     60            1     1      0     0   \n",
       "\n",
       "   active  cardio        bmi  \n",
       "0       1       0  21.967120  \n",
       "1       1       1  34.927679  \n",
       "2       0       1  23.507805  \n",
       "3       1       1  28.710479  \n",
       "4       0       0  23.011177  "
      ]
     },
     "execution_count": 36,
     "metadata": {},
     "output_type": "execute_result"
    }
   ],
   "source": [
    "df_out.head(5)"
   ]
  },
  {
   "cell_type": "code",
   "execution_count": 37,
   "id": "4ddcd3e9",
   "metadata": {},
   "outputs": [],
   "source": [
    "X = df_out.loc[:, df.columns != 'cardio']\n",
    "y = df_out[['cardio']]"
   ]
  },
  {
   "cell_type": "code",
   "execution_count": 38,
   "id": "7e68dd0b",
   "metadata": {},
   "outputs": [
    {
     "data": {
      "text/html": [
       "<div>\n",
       "<style scoped>\n",
       "    .dataframe tbody tr th:only-of-type {\n",
       "        vertical-align: middle;\n",
       "    }\n",
       "\n",
       "    .dataframe tbody tr th {\n",
       "        vertical-align: top;\n",
       "    }\n",
       "\n",
       "    .dataframe thead th {\n",
       "        text-align: right;\n",
       "    }\n",
       "</style>\n",
       "<table border=\"1\" class=\"dataframe\">\n",
       "  <thead>\n",
       "    <tr style=\"text-align: right;\">\n",
       "      <th></th>\n",
       "      <th>age</th>\n",
       "      <th>gender</th>\n",
       "      <th>height</th>\n",
       "      <th>weight</th>\n",
       "      <th>ap_hi</th>\n",
       "      <th>ap_lo</th>\n",
       "      <th>cholesterol</th>\n",
       "      <th>gluc</th>\n",
       "      <th>smoke</th>\n",
       "      <th>alco</th>\n",
       "      <th>active</th>\n",
       "      <th>bmi</th>\n",
       "    </tr>\n",
       "  </thead>\n",
       "  <tbody>\n",
       "    <tr>\n",
       "      <th>0</th>\n",
       "      <td>50</td>\n",
       "      <td>2</td>\n",
       "      <td>168</td>\n",
       "      <td>62.0</td>\n",
       "      <td>110</td>\n",
       "      <td>80</td>\n",
       "      <td>1</td>\n",
       "      <td>1</td>\n",
       "      <td>0</td>\n",
       "      <td>0</td>\n",
       "      <td>1</td>\n",
       "      <td>21.967120</td>\n",
       "    </tr>\n",
       "    <tr>\n",
       "      <th>1</th>\n",
       "      <td>55</td>\n",
       "      <td>1</td>\n",
       "      <td>156</td>\n",
       "      <td>85.0</td>\n",
       "      <td>140</td>\n",
       "      <td>90</td>\n",
       "      <td>3</td>\n",
       "      <td>1</td>\n",
       "      <td>0</td>\n",
       "      <td>0</td>\n",
       "      <td>1</td>\n",
       "      <td>34.927679</td>\n",
       "    </tr>\n",
       "    <tr>\n",
       "      <th>2</th>\n",
       "      <td>52</td>\n",
       "      <td>1</td>\n",
       "      <td>165</td>\n",
       "      <td>64.0</td>\n",
       "      <td>130</td>\n",
       "      <td>70</td>\n",
       "      <td>3</td>\n",
       "      <td>1</td>\n",
       "      <td>0</td>\n",
       "      <td>0</td>\n",
       "      <td>0</td>\n",
       "      <td>23.507805</td>\n",
       "    </tr>\n",
       "    <tr>\n",
       "      <th>3</th>\n",
       "      <td>48</td>\n",
       "      <td>2</td>\n",
       "      <td>169</td>\n",
       "      <td>82.0</td>\n",
       "      <td>150</td>\n",
       "      <td>100</td>\n",
       "      <td>1</td>\n",
       "      <td>1</td>\n",
       "      <td>0</td>\n",
       "      <td>0</td>\n",
       "      <td>1</td>\n",
       "      <td>28.710479</td>\n",
       "    </tr>\n",
       "    <tr>\n",
       "      <th>4</th>\n",
       "      <td>48</td>\n",
       "      <td>1</td>\n",
       "      <td>156</td>\n",
       "      <td>56.0</td>\n",
       "      <td>100</td>\n",
       "      <td>60</td>\n",
       "      <td>1</td>\n",
       "      <td>1</td>\n",
       "      <td>0</td>\n",
       "      <td>0</td>\n",
       "      <td>0</td>\n",
       "      <td>23.011177</td>\n",
       "    </tr>\n",
       "  </tbody>\n",
       "</table>\n",
       "</div>"
      ],
      "text/plain": [
       "   age  gender  height  weight  ap_hi  ap_lo  cholesterol  gluc  smoke  alco  \\\n",
       "0   50       2     168    62.0    110     80            1     1      0     0   \n",
       "1   55       1     156    85.0    140     90            3     1      0     0   \n",
       "2   52       1     165    64.0    130     70            3     1      0     0   \n",
       "3   48       2     169    82.0    150    100            1     1      0     0   \n",
       "4   48       1     156    56.0    100     60            1     1      0     0   \n",
       "\n",
       "   active        bmi  \n",
       "0       1  21.967120  \n",
       "1       1  34.927679  \n",
       "2       0  23.507805  \n",
       "3       1  28.710479  \n",
       "4       0  23.011177  "
      ]
     },
     "execution_count": 38,
     "metadata": {},
     "output_type": "execute_result"
    }
   ],
   "source": [
    "X.head(5)"
   ]
  },
  {
   "cell_type": "markdown",
   "id": "50cfb986",
   "metadata": {},
   "source": [
    "Since out data does not follow gaussian distribution (i.e. it is not normal) we apply normalization to our data which adjusts the values of our numeric data to common scale without altering the range of the data. We also have removed outliers as well."
   ]
  },
  {
   "cell_type": "code",
   "execution_count": 39,
   "id": "d02beeda",
   "metadata": {},
   "outputs": [],
   "source": [
    "#normalizing the data\n",
    "from sklearn.preprocessing import MinMaxScaler\n",
    "norm = MinMaxScaler().fit(X)\n",
    "\n",
    "x= norm.transform(X)"
   ]
  },
  {
   "cell_type": "markdown",
   "id": "dba65576",
   "metadata": {},
   "source": [
    "# Preparing the Data for the Model"
   ]
  },
  {
   "cell_type": "code",
   "execution_count": 40,
   "id": "6dc960bd",
   "metadata": {},
   "outputs": [],
   "source": [
    "x_train,x_test,y_train,y_test=train_test_split(X,y,test_size=0.2,random_state=100)"
   ]
  },
  {
   "cell_type": "code",
   "execution_count": 41,
   "id": "0dbd09db",
   "metadata": {},
   "outputs": [
    {
     "data": {
      "text/plain": [
       "((53252, 12), (13313, 12), (53252, 1), (13313, 1))"
      ]
     },
     "execution_count": 41,
     "metadata": {},
     "output_type": "execute_result"
    }
   ],
   "source": [
    "x_train.shape,x_test.shape,y_train.shape,y_test.shape"
   ]
  },
  {
   "cell_type": "markdown",
   "id": "5d967f00",
   "metadata": {},
   "source": [
    "# logistic regression"
   ]
  },
  {
   "cell_type": "code",
   "execution_count": 42,
   "id": "d8a77437",
   "metadata": {},
   "outputs": [],
   "source": [
    "from sklearn.linear_model import LogisticRegression\n",
    "lg=LogisticRegression()"
   ]
  },
  {
   "cell_type": "code",
   "execution_count": 43,
   "id": "b08da516",
   "metadata": {},
   "outputs": [
    {
     "data": {
      "text/plain": [
       "LogisticRegression()"
      ]
     },
     "execution_count": 43,
     "metadata": {},
     "output_type": "execute_result"
    }
   ],
   "source": [
    "lg.fit(x_train,y_train)"
   ]
  },
  {
   "cell_type": "code",
   "execution_count": 44,
   "id": "fa6fa8fe",
   "metadata": {},
   "outputs": [
    {
     "data": {
      "text/plain": [
       "array([1, 0, 0, ..., 1, 0, 0], dtype=int64)"
      ]
     },
     "execution_count": 44,
     "metadata": {},
     "output_type": "execute_result"
    }
   ],
   "source": [
    "lg_p=lg.predict(x_test)\n",
    "lg_p"
   ]
  },
  {
   "cell_type": "code",
   "execution_count": 45,
   "id": "dfb1990c",
   "metadata": {},
   "outputs": [],
   "source": [
    "lg_prob=lg.predict_proba(x_test)\n",
    "#lg_prob"
   ]
  },
  {
   "cell_type": "code",
   "execution_count": 46,
   "id": "6a59ba34",
   "metadata": {},
   "outputs": [],
   "source": [
    "from sklearn.metrics import confusion_matrix"
   ]
  },
  {
   "cell_type": "code",
   "execution_count": 47,
   "id": "dd937ce0",
   "metadata": {},
   "outputs": [
    {
     "data": {
      "text/plain": [
       "array([[5304, 2174],\n",
       "       [1537, 4298]], dtype=int64)"
      ]
     },
     "execution_count": 47,
     "metadata": {},
     "output_type": "execute_result"
    }
   ],
   "source": [
    "lg_m=confusion_matrix(lg_p,y_test)\n",
    "lg_m"
   ]
  },
  {
   "cell_type": "code",
   "execution_count": 48,
   "id": "9865ee65",
   "metadata": {},
   "outputs": [
    {
     "data": {
      "text/plain": [
       "72.1249906106813"
      ]
     },
     "execution_count": 48,
     "metadata": {},
     "output_type": "execute_result"
    }
   ],
   "source": [
    "lg_ac=lg_m.diagonal().sum()/lg_m.sum()*100\n",
    "lg_ac"
   ]
  },
  {
   "cell_type": "code",
   "execution_count": 49,
   "id": "3bcf6107",
   "metadata": {},
   "outputs": [
    {
     "data": {
      "text/plain": [
       "0.6640914709517923"
      ]
     },
     "execution_count": 49,
     "metadata": {},
     "output_type": "execute_result"
    }
   ],
   "source": [
    "lg_pr=precision_score(lg_p,y_test)\n",
    "lg_pr"
   ]
  },
  {
   "cell_type": "code",
   "execution_count": 50,
   "id": "3ed5e1d6",
   "metadata": {},
   "outputs": [
    {
     "data": {
      "text/plain": [
       "0.7365895458440446"
      ]
     },
     "execution_count": 50,
     "metadata": {},
     "output_type": "execute_result"
    }
   ],
   "source": [
    "lg_re=recall_score(lg_p,y_test)\n",
    "lg_re"
   ]
  },
  {
   "cell_type": "code",
   "execution_count": 51,
   "id": "c208b70c",
   "metadata": {},
   "outputs": [
    {
     "data": {
      "text/plain": [
       "0.6984642886162348"
      ]
     },
     "execution_count": 51,
     "metadata": {},
     "output_type": "execute_result"
    }
   ],
   "source": [
    "lg_f1=f1_score(lg_p,y_test)\n",
    "lg_f1"
   ]
  },
  {
   "cell_type": "code",
   "execution_count": 52,
   "id": "3e062a47",
   "metadata": {},
   "outputs": [
    {
     "data": {
      "image/png": "[encoded data removed]",
      "text/plain": [
       "<Figure size 432x288 with 2 Axes>"
      ]
     },
     "metadata": {
      "needs_background": "light"
     },
     "output_type": "display_data"
    }
   ],
   "source": [
    "labels = [0,1]\n",
    "cm = confusion_matrix(y_test, lg_p)\n",
    "disp = ConfusionMatrixDisplay(confusion_matrix=lg_m, display_labels=labels)\n",
    "disp.plot();"
   ]
  },
  {
   "cell_type": "code",
   "execution_count": 53,
   "id": "014d5fdb",
   "metadata": {},
   "outputs": [],
   "source": [
    "from sklearn.metrics import classification_report"
   ]
  },
  {
   "cell_type": "code",
   "execution_count": 54,
   "id": "947365be",
   "metadata": {},
   "outputs": [
    {
     "name": "stdout",
     "output_type": "stream",
     "text": [
      "              precision    recall  f1-score   support\n",
      "\n",
      "           0       0.78      0.71      0.74      7478\n",
      "           1       0.66      0.74      0.70      5835\n",
      "\n",
      "    accuracy                           0.72     13313\n",
      "   macro avg       0.72      0.72      0.72     13313\n",
      "weighted avg       0.73      0.72      0.72     13313\n",
      "\n"
     ]
    }
   ],
   "source": [
    "print(classification_report(lg_p,y_test))"
   ]
  },
  {
   "cell_type": "markdown",
   "id": "58e38a23",
   "metadata": {},
   "source": [
    "# decision tree"
   ]
  },
  {
   "cell_type": "code",
   "execution_count": 55,
   "id": "4ad674cf",
   "metadata": {},
   "outputs": [],
   "source": [
    "from sklearn.tree import DecisionTreeClassifier\n",
    "dt=DecisionTreeClassifier()"
   ]
  },
  {
   "cell_type": "code",
   "execution_count": 56,
   "id": "6d3a252f",
   "metadata": {},
   "outputs": [
    {
     "data": {
      "text/plain": [
       "DecisionTreeClassifier()"
      ]
     },
     "execution_count": 56,
     "metadata": {},
     "output_type": "execute_result"
    }
   ],
   "source": [
    "dt.fit(x_train,y_train)"
   ]
  },
  {
   "cell_type": "code",
   "execution_count": 57,
   "id": "9877f500",
   "metadata": {},
   "outputs": [],
   "source": [
    "dt_p=dt.predict(x_test)"
   ]
  },
  {
   "cell_type": "code",
   "execution_count": 58,
   "id": "85175347",
   "metadata": {},
   "outputs": [
    {
     "data": {
      "text/plain": [
       "array([[4518, 2502],\n",
       "       [2323, 3970]], dtype=int64)"
      ]
     },
     "execution_count": 58,
     "metadata": {},
     "output_type": "execute_result"
    }
   ],
   "source": [
    "dt_cf=confusion_matrix(dt_p,y_test)\n",
    "dt_cf"
   ]
  },
  {
   "cell_type": "code",
   "execution_count": 59,
   "id": "04b09505",
   "metadata": {},
   "outputs": [
    {
     "data": {
      "text/plain": [
       "63.757229775407495"
      ]
     },
     "execution_count": 59,
     "metadata": {},
     "output_type": "execute_result"
    }
   ],
   "source": [
    "dt_ac=dt_cf.diagonal().sum()/dt_cf.sum()*100\n",
    "dt_ac"
   ]
  },
  {
   "cell_type": "code",
   "execution_count": 60,
   "id": "51a06069",
   "metadata": {},
   "outputs": [
    {
     "data": {
      "text/plain": [
       "0.6134116192830655"
      ]
     },
     "execution_count": 60,
     "metadata": {},
     "output_type": "execute_result"
    }
   ],
   "source": [
    "dt_pr=precision_score(dt_p,y_test)\n",
    "dt_pr"
   ]
  },
  {
   "cell_type": "code",
   "execution_count": 61,
   "id": "0b7779d4",
   "metadata": {},
   "outputs": [
    {
     "data": {
      "text/plain": [
       "0.630859685364691"
      ]
     },
     "execution_count": 61,
     "metadata": {},
     "output_type": "execute_result"
    }
   ],
   "source": [
    "dt_re=recall_score(dt_p,y_test)\n",
    "dt_re"
   ]
  },
  {
   "cell_type": "code",
   "execution_count": 62,
   "id": "80921984",
   "metadata": {},
   "outputs": [
    {
     "data": {
      "text/plain": [
       "0.6220133176654916"
      ]
     },
     "execution_count": 62,
     "metadata": {},
     "output_type": "execute_result"
    }
   ],
   "source": [
    "dt_f1=f1_score(dt_p,y_test)\n",
    "dt_f1"
   ]
  },
  {
   "cell_type": "raw",
   "id": "5e59055e",
   "metadata": {},
   "source": [
    "feature selection"
   ]
  },
  {
   "cell_type": "code",
   "execution_count": 63,
   "id": "12c50ec0",
   "metadata": {},
   "outputs": [
    {
     "data": {
      "text/plain": [
       "array([0.13837679, 0.02699191, 0.11442557, 0.11043938, 0.24537508,\n",
       "       0.04839329, 0.03882587, 0.02537723, 0.01176871, 0.00952959,\n",
       "       0.01973557, 0.210761  ])"
      ]
     },
     "execution_count": 63,
     "metadata": {},
     "output_type": "execute_result"
    }
   ],
   "source": [
    "dt.feature_importances_"
   ]
  },
  {
   "cell_type": "code",
   "execution_count": 64,
   "id": "99b6077f",
   "metadata": {},
   "outputs": [
    {
     "data": {
      "text/html": [
       "<div>\n",
       "<style scoped>\n",
       "    .dataframe tbody tr th:only-of-type {\n",
       "        vertical-align: middle;\n",
       "    }\n",
       "\n",
       "    .dataframe tbody tr th {\n",
       "        vertical-align: top;\n",
       "    }\n",
       "\n",
       "    .dataframe thead th {\n",
       "        text-align: right;\n",
       "    }\n",
       "</style>\n",
       "<table border=\"1\" class=\"dataframe\">\n",
       "  <thead>\n",
       "    <tr style=\"text-align: right;\">\n",
       "      <th></th>\n",
       "      <th>Importance</th>\n",
       "      <th>columns</th>\n",
       "    </tr>\n",
       "  </thead>\n",
       "  <tbody>\n",
       "    <tr>\n",
       "      <th>0</th>\n",
       "      <td>0.138377</td>\n",
       "      <td>age</td>\n",
       "    </tr>\n",
       "    <tr>\n",
       "      <th>1</th>\n",
       "      <td>0.026992</td>\n",
       "      <td>gender</td>\n",
       "    </tr>\n",
       "    <tr>\n",
       "      <th>2</th>\n",
       "      <td>0.114426</td>\n",
       "      <td>height</td>\n",
       "    </tr>\n",
       "    <tr>\n",
       "      <th>3</th>\n",
       "      <td>0.110439</td>\n",
       "      <td>weight</td>\n",
       "    </tr>\n",
       "    <tr>\n",
       "      <th>4</th>\n",
       "      <td>0.245375</td>\n",
       "      <td>ap_hi</td>\n",
       "    </tr>\n",
       "    <tr>\n",
       "      <th>5</th>\n",
       "      <td>0.048393</td>\n",
       "      <td>ap_lo</td>\n",
       "    </tr>\n",
       "    <tr>\n",
       "      <th>6</th>\n",
       "      <td>0.038826</td>\n",
       "      <td>cholesterol</td>\n",
       "    </tr>\n",
       "    <tr>\n",
       "      <th>7</th>\n",
       "      <td>0.025377</td>\n",
       "      <td>gluc</td>\n",
       "    </tr>\n",
       "    <tr>\n",
       "      <th>8</th>\n",
       "      <td>0.011769</td>\n",
       "      <td>smoke</td>\n",
       "    </tr>\n",
       "    <tr>\n",
       "      <th>9</th>\n",
       "      <td>0.009530</td>\n",
       "      <td>alco</td>\n",
       "    </tr>\n",
       "    <tr>\n",
       "      <th>10</th>\n",
       "      <td>0.019736</td>\n",
       "      <td>active</td>\n",
       "    </tr>\n",
       "    <tr>\n",
       "      <th>11</th>\n",
       "      <td>0.210761</td>\n",
       "      <td>bmi</td>\n",
       "    </tr>\n",
       "  </tbody>\n",
       "</table>\n",
       "</div>"
      ],
      "text/plain": [
       "    Importance      columns\n",
       "0     0.138377          age\n",
       "1     0.026992       gender\n",
       "2     0.114426       height\n",
       "3     0.110439       weight\n",
       "4     0.245375        ap_hi\n",
       "5     0.048393        ap_lo\n",
       "6     0.038826  cholesterol\n",
       "7     0.025377         gluc\n",
       "8     0.011769        smoke\n",
       "9     0.009530         alco\n",
       "10    0.019736       active\n",
       "11    0.210761          bmi"
      ]
     },
     "execution_count": 64,
     "metadata": {},
     "output_type": "execute_result"
    }
   ],
   "source": [
    "dt_df=pd.DataFrame({\"Importance\":list(dt.feature_importances_),\"columns\":list(X)})\n",
    "dt_df"
   ]
  },
  {
   "cell_type": "code",
   "execution_count": 65,
   "id": "ffb2c656",
   "metadata": {},
   "outputs": [
    {
     "data": {
      "image/png": "[encoded data removed]",
      "text/plain": [
       "<Figure size 432x288 with 2 Axes>"
      ]
     },
     "metadata": {
      "needs_background": "light"
     },
     "output_type": "display_data"
    }
   ],
   "source": [
    "labels = [0,1]\n",
    "disp = ConfusionMatrixDisplay(confusion_matrix=dt_cf, display_labels=labels)\n",
    "disp.plot();"
   ]
  },
  {
   "cell_type": "code",
   "execution_count": 66,
   "id": "d4476c89",
   "metadata": {},
   "outputs": [
    {
     "name": "stdout",
     "output_type": "stream",
     "text": [
      "              precision    recall  f1-score   support\n",
      "\n",
      "           0       0.66      0.64      0.65      7020\n",
      "           1       0.61      0.63      0.62      6293\n",
      "\n",
      "    accuracy                           0.64     13313\n",
      "   macro avg       0.64      0.64      0.64     13313\n",
      "weighted avg       0.64      0.64      0.64     13313\n",
      "\n"
     ]
    }
   ],
   "source": [
    " print(classification_report(dt_p,y_test))\n"
   ]
  },
  {
   "cell_type": "code",
   "execution_count": 67,
   "id": "2baa0ed3",
   "metadata": {},
   "outputs": [],
   "source": [
    "path = dt.cost_complexity_pruning_path(x_train, y_train)\n",
    "ccp_alphas, impurities = path.ccp_alphas, path.impurities"
   ]
  },
  {
   "cell_type": "code",
   "execution_count": 68,
   "id": "3474964f",
   "metadata": {},
   "outputs": [
    {
     "data": {
      "text/plain": [
       "Text(0.5, 1.0, 'Total Impurity vs effective alpha for training set')"
      ]
     },
     "execution_count": 68,
     "metadata": {},
     "output_type": "execute_result"
    },
    {
     "data": {
      "image/png": "[encoded data removed]",
      "text/plain": [
       "<Figure size 432x288 with 1 Axes>"
      ]
     },
     "metadata": {
      "needs_background": "light"
     },
     "output_type": "display_data"
    }
   ],
   "source": [
    "fig, ax = plt.subplots()\n",
    "ax.plot(ccp_alphas[:-1], impurities[:-1], marker=\"o\", drawstyle=\"steps-post\")\n",
    "ax.set_xlabel(\"effective alpha\")\n",
    "ax.set_ylabel(\"total impurity of leaves\")\n",
    "ax.set_title(\"Total Impurity vs effective alpha for training set\")"
   ]
  },
  {
   "cell_type": "markdown",
   "id": "c1a3d35a",
   "metadata": {},
   "source": [
    "# random forest"
   ]
  },
  {
   "cell_type": "code",
   "execution_count": 69,
   "id": "a58d3688",
   "metadata": {},
   "outputs": [],
   "source": [
    "from sklearn.ensemble import RandomForestClassifier\n",
    "rf=RandomForestClassifier()"
   ]
  },
  {
   "cell_type": "code",
   "execution_count": 70,
   "id": "6d91e423",
   "metadata": {},
   "outputs": [],
   "source": [
    "rf = RandomForestClassifier()"
   ]
  },
  {
   "cell_type": "code",
   "execution_count": 71,
   "id": "8163370a",
   "metadata": {},
   "outputs": [
    {
     "data": {
      "text/plain": [
       "RandomForestClassifier()"
      ]
     },
     "execution_count": 71,
     "metadata": {},
     "output_type": "execute_result"
    }
   ],
   "source": [
    "rf.fit(x_train,y_train)"
   ]
  },
  {
   "cell_type": "code",
   "execution_count": 72,
   "id": "d849dd29",
   "metadata": {},
   "outputs": [],
   "source": [
    "rf_p=rf.predict(x_test)"
   ]
  },
  {
   "cell_type": "code",
   "execution_count": 73,
   "id": "474d46d4",
   "metadata": {},
   "outputs": [
    {
     "data": {
      "text/plain": [
       "array([[4942, 1992],\n",
       "       [1899, 4480]], dtype=int64)"
      ]
     },
     "execution_count": 73,
     "metadata": {},
     "output_type": "execute_result"
    }
   ],
   "source": [
    "cf=confusion_matrix(rf_p,y_test)\n",
    "cf"
   ]
  },
  {
   "cell_type": "code",
   "execution_count": 74,
   "id": "ff14f40d",
   "metadata": {},
   "outputs": [
    {
     "data": {
      "text/plain": [
       "70.77292871629236"
      ]
     },
     "execution_count": 74,
     "metadata": {},
     "output_type": "execute_result"
    }
   ],
   "source": [
    "rf_ac=cf.diagonal().sum()/cf.sum()*100\n",
    "rf_ac"
   ]
  },
  {
   "cell_type": "code",
   "execution_count": 75,
   "id": "66e5faa1",
   "metadata": {},
   "outputs": [
    {
     "data": {
      "text/plain": [
       "0.69221260815822"
      ]
     },
     "execution_count": 75,
     "metadata": {},
     "output_type": "execute_result"
    }
   ],
   "source": [
    "rf_pr=precision_score(rf_p,y_test)\n",
    "rf_pr"
   ]
  },
  {
   "cell_type": "code",
   "execution_count": 76,
   "id": "8acb0521",
   "metadata": {},
   "outputs": [
    {
     "data": {
      "text/plain": [
       "0.7023044364320427"
      ]
     },
     "execution_count": 76,
     "metadata": {},
     "output_type": "execute_result"
    }
   ],
   "source": [
    "rf_re=recall_score(rf_p,y_test)\n",
    "rf_re"
   ]
  },
  {
   "cell_type": "code",
   "execution_count": 77,
   "id": "83de16d8",
   "metadata": {},
   "outputs": [
    {
     "data": {
      "text/plain": [
       "0.6972220060695666"
      ]
     },
     "execution_count": 77,
     "metadata": {},
     "output_type": "execute_result"
    }
   ],
   "source": [
    "rf_f1=f1_score(rf_p,y_test)\n",
    "rf_f1"
   ]
  },
  {
   "cell_type": "code",
   "execution_count": 78,
   "id": "34926752",
   "metadata": {},
   "outputs": [
    {
     "name": "stdout",
     "output_type": "stream",
     "text": [
      "              precision    recall  f1-score   support\n",
      "\n",
      "           0       0.72      0.71      0.72      6934\n",
      "           1       0.69      0.70      0.70      6379\n",
      "\n",
      "    accuracy                           0.71     13313\n",
      "   macro avg       0.71      0.71      0.71     13313\n",
      "weighted avg       0.71      0.71      0.71     13313\n",
      "\n"
     ]
    }
   ],
   "source": [
    "print(classification_report(rf_p,y_test))"
   ]
  },
  {
   "cell_type": "code",
   "execution_count": 79,
   "id": "17296faf",
   "metadata": {},
   "outputs": [
    {
     "name": "stdout",
     "output_type": "stream",
     "text": [
      "Fitting 5 folds for each of 972 candidates, totalling 4860 fits\n",
      "{'criterion': 'entropy', 'max_depth': 10, 'n_estimators': 10, 'n_jobs': 2}\n"
     ]
    }
   ],
   "source": [
    "#gridsearch to find best parameters for random forest classifier\n",
    "params = {'criterion' : ['gini', \"entropy\", \"log_loss\"], \n",
    "          'max_depth' : range(2,11,1),\n",
    "         'n_estimators' : range(2,11,1),\n",
    "         'n_jobs': [2,3,4,5]}\n",
    "\n",
    "grid = GridSearchCV(RandomForestClassifier(), params, refit = True, verbose = 3,n_jobs=-1, scoring='accuracy', cv=5) \n",
    "   \n",
    "# fitting the model for grid search \n",
    "grid.fit(x_train, y_train) \n",
    " \n",
    "# print best parameter after tuning \n",
    "print(grid.best_params_) \n",
    "grid_predictions = grid.predict(x_test) "
   ]
  },
  {
   "cell_type": "code",
   "execution_count": 80,
   "id": "29045d24",
   "metadata": {},
   "outputs": [
    {
     "name": "stdout",
     "output_type": "stream",
     "text": [
      "Accuracy of the Random Forest model: 72.84%\n",
      "\n",
      "f1 score of the Random Forest model: 72.98%\n",
      "\n",
      "Cross validation accuracy of the Random Forest model: 73.07%\n",
      "\n",
      "Classification Report:\n",
      "               precision    recall  f1-score   support\n",
      "\n",
      "           0       0.79      0.71      0.75      7635\n",
      "           1       0.66      0.75      0.70      5678\n",
      "\n",
      "    accuracy                           0.73     13313\n",
      "   macro avg       0.73      0.73      0.73     13313\n",
      "weighted avg       0.74      0.73      0.73     13313\n",
      "\n"
     ]
    },
    {
     "data": {
      "image/png": "[encoded data removed]",
      "text/plain": [
       "<Figure size 432x288 with 2 Axes>"
      ]
     },
     "metadata": {
      "needs_background": "light"
     },
     "output_type": "display_data"
    }
   ],
   "source": [
    "rf_model = RandomForestClassifier(criterion='gini', max_depth=9, n_estimators=8, n_jobs=2)\n",
    "\n",
    "rf_model.fit(x_train, y_train)\n",
    "y_pred = rf_model.predict(x_test)\n",
    "\n",
    "accuracy = (accuracy_score(y_test,y_pred))*100\n",
    "f1score = metrics.f1_score(y_pred,y_test,average='weighted')\n",
    "precision=precision_score(y_pred,y_test)\n",
    "recall=recall_score(y_pred,y_test)\n",
    "\n",
    "kfold = KFold(n_splits=5)\n",
    "cv = cross_val_score(rf_model,x_train,y_train,cv=kfold)\n",
    "\n",
    "report = classification_report(y_pred,y_test, zero_division=1)\n",
    "\n",
    "print(f\"Accuracy of the Random Forest model: {round(accuracy, 2)}%\\n\")\n",
    "print(f\"f1 score of the Random Forest model: {round(f1score*100, 2)}%\\n\")\n",
    "print(f\"Cross validation accuracy of the Random Forest model: {round(np.mean(cv)*100, 2)}%\\n\")\n",
    "print(\"Classification Report:\\n\", report)\n",
    "\n",
    "cm = confusion_matrix(y_test, y_pred)\n",
    "disp = ConfusionMatrixDisplay(confusion_matrix = cm, display_labels = rf_model.classes_)\n",
    "disp.plot(cmap=plt.cm.Blues)\n",
    "plt.title(\"Random Forest Confusion Matrix\")\n",
    "plt.grid(visible=False)\n",
    "plt.show()"
   ]
  },
  {
   "cell_type": "markdown",
   "id": "20c1fa7e",
   "metadata": {},
   "source": [
    "# KNN"
   ]
  },
  {
   "cell_type": "code",
   "execution_count": 81,
   "id": "d56764fb",
   "metadata": {},
   "outputs": [],
   "source": [
    "from sklearn.neighbors import KNeighborsClassifier\n",
    "knn= KNeighborsClassifier(n_neighbors=24)"
   ]
  },
  {
   "cell_type": "code",
   "execution_count": 82,
   "id": "aaedf1a9",
   "metadata": {},
   "outputs": [
    {
     "data": {
      "text/plain": [
       "KNeighborsClassifier(n_neighbors=24)"
      ]
     },
     "execution_count": 82,
     "metadata": {},
     "output_type": "execute_result"
    }
   ],
   "source": [
    "knn.fit(x_train,y_train)"
   ]
  },
  {
   "cell_type": "code",
   "execution_count": 83,
   "id": "a0def522",
   "metadata": {},
   "outputs": [
    {
     "data": {
      "text/plain": [
       "array([1, 0, 0, ..., 1, 0, 0], dtype=int64)"
      ]
     },
     "execution_count": 83,
     "metadata": {},
     "output_type": "execute_result"
    }
   ],
   "source": [
    "k_p=knn.predict(x_test)\n",
    "k_p"
   ]
  },
  {
   "cell_type": "code",
   "execution_count": 84,
   "id": "6c25b5fd",
   "metadata": {},
   "outputs": [
    {
     "data": {
      "text/plain": [
       "array([[5356, 2332],\n",
       "       [1485, 4140]], dtype=int64)"
      ]
     },
     "execution_count": 84,
     "metadata": {},
     "output_type": "execute_result"
    }
   ],
   "source": [
    "ck=confusion_matrix(k_p,y_test)\n",
    "ck"
   ]
  },
  {
   "cell_type": "code",
   "execution_count": 85,
   "id": "d5879359",
   "metadata": {},
   "outputs": [
    {
     "data": {
      "text/plain": [
       "71.32877638398558"
      ]
     },
     "execution_count": 85,
     "metadata": {},
     "output_type": "execute_result"
    }
   ],
   "source": [
    "k_ac=ck.diagonal().sum()/ck.sum()*100\n",
    "k_ac"
   ]
  },
  {
   "cell_type": "code",
   "execution_count": 86,
   "id": "a64670ea",
   "metadata": {},
   "outputs": [
    {
     "data": {
      "text/plain": [
       "0.6396786155747837"
      ]
     },
     "execution_count": 86,
     "metadata": {},
     "output_type": "execute_result"
    }
   ],
   "source": [
    "knn_pr=precision_score(k_p,y_test)\n",
    "knn_pr"
   ]
  },
  {
   "cell_type": "code",
   "execution_count": 87,
   "id": "ee1d8eb5",
   "metadata": {},
   "outputs": [
    {
     "data": {
      "text/plain": [
       "0.736"
      ]
     },
     "execution_count": 87,
     "metadata": {},
     "output_type": "execute_result"
    }
   ],
   "source": [
    "knn_re=recall_score(k_p,y_test)\n",
    "knn_re"
   ]
  },
  {
   "cell_type": "code",
   "execution_count": 88,
   "id": "2721f85a",
   "metadata": {},
   "outputs": [
    {
     "data": {
      "text/plain": [
       "0.6844672232784987"
      ]
     },
     "execution_count": 88,
     "metadata": {},
     "output_type": "execute_result"
    }
   ],
   "source": [
    "knn_f1=f1_score(k_p,y_test)\n",
    "knn_f1"
   ]
  },
  {
   "cell_type": "code",
   "execution_count": 89,
   "id": "523de1fb",
   "metadata": {},
   "outputs": [
    {
     "data": {
      "image/png": "[encoded data removed]",
      "text/plain": [
       "<Figure size 432x288 with 2 Axes>"
      ]
     },
     "metadata": {
      "needs_background": "light"
     },
     "output_type": "display_data"
    }
   ],
   "source": [
    "labels = [0,1]\n",
    "disp = ConfusionMatrixDisplay(confusion_matrix=ck, display_labels=labels)\n",
    "disp.plot();"
   ]
  },
  {
   "cell_type": "code",
   "execution_count": 90,
   "id": "649cf6bc",
   "metadata": {},
   "outputs": [
    {
     "name": "stdout",
     "output_type": "stream",
     "text": [
      "              precision    recall  f1-score   support\n",
      "\n",
      "           0       0.78      0.70      0.74      7688\n",
      "           1       0.64      0.74      0.68      5625\n",
      "\n",
      "    accuracy                           0.71     13313\n",
      "   macro avg       0.71      0.72      0.71     13313\n",
      "weighted avg       0.72      0.71      0.71     13313\n",
      "\n"
     ]
    }
   ],
   "source": [
    "print(classification_report(k_p,y_test))"
   ]
  },
  {
   "cell_type": "code",
   "execution_count": null,
   "id": "bed37d29",
   "metadata": {},
   "outputs": [],
   "source": []
  },
  {
   "cell_type": "code",
   "execution_count": 91,
   "id": "1afdf587",
   "metadata": {},
   "outputs": [],
   "source": [
    "list1=[\"LOGISTIC REGRESSION\",\"DECISION TREE\",\"RANDOM FOREST\",\"KNN\"]\n",
    "list2=[lg_ac,dt_ac,accuracy,k_ac]\n",
    "list3=[lg_pr,dt_pr,precision,knn_pr]\n",
    "list4=[lg_re,dt_re,recall,knn_re]\n",
    "list5=[lg_f1,dt_f1,f1score,knn_f1]\n"
   ]
  },
  {
   "cell_type": "code",
   "execution_count": 92,
   "id": "50117268",
   "metadata": {},
   "outputs": [
    {
     "data": {
      "text/html": [
       "<div>\n",
       "<style scoped>\n",
       "    .dataframe tbody tr th:only-of-type {\n",
       "        vertical-align: middle;\n",
       "    }\n",
       "\n",
       "    .dataframe tbody tr th {\n",
       "        vertical-align: top;\n",
       "    }\n",
       "\n",
       "    .dataframe thead th {\n",
       "        text-align: right;\n",
       "    }\n",
       "</style>\n",
       "<table border=\"1\" class=\"dataframe\">\n",
       "  <thead>\n",
       "    <tr style=\"text-align: right;\">\n",
       "      <th></th>\n",
       "      <th>Model Name</th>\n",
       "      <th>Accuracy</th>\n",
       "      <th>Precision</th>\n",
       "      <th>Recall</th>\n",
       "      <th>F1_score</th>\n",
       "    </tr>\n",
       "  </thead>\n",
       "  <tbody>\n",
       "    <tr>\n",
       "      <th>0</th>\n",
       "      <td>LOGISTIC REGRESSION</td>\n",
       "      <td>72.124991</td>\n",
       "      <td>0.664091</td>\n",
       "      <td>0.736590</td>\n",
       "      <td>0.698464</td>\n",
       "    </tr>\n",
       "    <tr>\n",
       "      <th>1</th>\n",
       "      <td>DECISION TREE</td>\n",
       "      <td>63.757230</td>\n",
       "      <td>0.613412</td>\n",
       "      <td>0.630860</td>\n",
       "      <td>0.622013</td>\n",
       "    </tr>\n",
       "    <tr>\n",
       "      <th>2</th>\n",
       "      <td>RANDOM FOREST</td>\n",
       "      <td>72.838579</td>\n",
       "      <td>0.659302</td>\n",
       "      <td>0.751497</td>\n",
       "      <td>0.729812</td>\n",
       "    </tr>\n",
       "    <tr>\n",
       "      <th>3</th>\n",
       "      <td>KNN</td>\n",
       "      <td>71.328776</td>\n",
       "      <td>0.639679</td>\n",
       "      <td>0.736000</td>\n",
       "      <td>0.684467</td>\n",
       "    </tr>\n",
       "  </tbody>\n",
       "</table>\n",
       "</div>"
      ],
      "text/plain": [
       "            Model Name   Accuracy  Precision    Recall  F1_score\n",
       "0  LOGISTIC REGRESSION  72.124991   0.664091  0.736590  0.698464\n",
       "1        DECISION TREE  63.757230   0.613412  0.630860  0.622013\n",
       "2        RANDOM FOREST  72.838579   0.659302  0.751497  0.729812\n",
       "3                  KNN  71.328776   0.639679  0.736000  0.684467"
      ]
     },
     "execution_count": 92,
     "metadata": {},
     "output_type": "execute_result"
    }
   ],
   "source": [
    "df1=pd.DataFrame({\"Model Name\":list1,\"Accuracy\":list2,\"Precision\":list3,\"Recall\":list4,\"F1_score\":list5})\n",
    "df1"
   ]
  },
  {
   "cell_type": "markdown",
   "id": "e62fa72f",
   "metadata": {},
   "source": [
    "# Prediction"
   ]
  },
  {
   "cell_type": "code",
   "execution_count": 93,
   "id": "02fbadfe",
   "metadata": {},
   "outputs": [],
   "source": [
    "test = [[35,1,168,62,110,70,1,0,1,0,1, 30.0]]\n",
    "test = norm.transform(test)"
   ]
  },
  {
   "cell_type": "code",
   "execution_count": 94,
   "id": "38b08c2a",
   "metadata": {},
   "outputs": [],
   "source": [
    "pred = rf.predict(test)"
   ]
  },
  {
   "cell_type": "code",
   "execution_count": 95,
   "id": "95f9ddfc",
   "metadata": {},
   "outputs": [
    {
     "name": "stdout",
     "output_type": "stream",
     "text": [
      "NO! Cardiovascular Disease\n"
     ]
    }
   ],
   "source": [
    "if pred:\n",
    "    print(\"Cardiovascular Disease Detected!\")\n",
    "else:\n",
    "    print(\"NO! Cardiovascular Disease\" )"
   ]
  },
  {
   "cell_type": "code",
   "execution_count": null,
   "id": "13e710ef",
   "metadata": {},
   "outputs": [],
   "source": []
  }
 ],
 "metadata": {
  "kernelspec": {
   "display_name": "Python 3 (ipykernel)",
   "language": "python",
   "name": "python3"
  },
  "language_info": {
   "codemirror_mode": {
    "name": "ipython",
    "version": 3
   },
   "file_extension": ".py",
   "mimetype": "text/x-python",
   "name": "python",
   "nbconvert_exporter": "python",
   "pygments_lexer": "ipython3",
   "version": "3.9.12"
  }
 },
 "nbformat": 4,
 "nbformat_minor": 5
}
